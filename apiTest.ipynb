{
 "cells": [
  {
   "cell_type": "code",
   "execution_count": 1,
   "metadata": {},
   "outputs": [],
   "source": [
    "import tweepy\n",
    "import json\n",
    "import pathlib\n",
    "import pandas as pd"
   ]
  },
  {
   "cell_type": "code",
   "execution_count": 17,
   "metadata": {},
   "outputs": [],
   "source": [
    "authInfoDir = pathlib.Path(\"./authentics.json\")\n",
    "f = open(authInfoDir)\n",
    "authInfo = json.load(f)\n",
    "f.close()"
   ]
  },
  {
   "cell_type": "code",
   "execution_count": 20,
   "metadata": {},
   "outputs": [],
   "source": [
    "auth = tweepy.OAuthHandler(authInfo['CONSUMER_KEY'], authInfo['CONSUMER_SECRET'])"
   ]
  },
  {
   "cell_type": "code",
   "execution_count": 23,
   "metadata": {},
   "outputs": [],
   "source": [
    "auth.set_access_token(authInfo['ACCESS_TOKEN'], authInfo['ACCESS_SECRET'])\n",
    "api = tweepy.API(auth)"
   ]
  },
  {
   "cell_type": "code",
   "execution_count": 43,
   "metadata": {},
   "outputs": [],
   "source": [
    "cursor = tweepy.Cursor(api.user_timeline, id='rogerkver', tweet_mode = 'extended').items(1)"
   ]
  },
  {
   "cell_type": "code",
   "execution_count": 61,
   "metadata": {},
   "outputs": [],
   "source": [
    "numberOfTweet = 10\n",
    "tweetsText = []\n",
    "likes = []\n",
    "time = []"
   ]
  },
  {
   "cell_type": "code",
   "execution_count": 64,
   "metadata": {},
   "outputs": [],
   "source": [
    "cursor = tweepy.Cursor(api.search_tweets, q='BTC', tweet_mode = 'extended').items(numberOfTweet)"
   ]
  },
  {
   "cell_type": "code",
   "execution_count": 65,
   "metadata": {},
   "outputs": [],
   "source": [
    "for item in cursor:\n",
    "    tweetsText.append(item.full_text)\n",
    "    likes.append(i.favorite_count)\n",
    "    time.append(i.created_at)"
   ]
  },
  {
   "cell_type": "code",
   "execution_count": 66,
   "metadata": {},
   "outputs": [
    {
     "data": {
      "text/html": [
       "<div>\n",
       "<style scoped>\n",
       "    .dataframe tbody tr th:only-of-type {\n",
       "        vertical-align: middle;\n",
       "    }\n",
       "\n",
       "    .dataframe tbody tr th {\n",
       "        vertical-align: top;\n",
       "    }\n",
       "\n",
       "    .dataframe thead th {\n",
       "        text-align: right;\n",
       "    }\n",
       "</style>\n",
       "<table border=\"1\" class=\"dataframe\">\n",
       "  <thead>\n",
       "    <tr style=\"text-align: right;\">\n",
       "      <th></th>\n",
       "      <th>text</th>\n",
       "      <th>likes</th>\n",
       "      <th>time</th>\n",
       "    </tr>\n",
       "  </thead>\n",
       "  <tbody>\n",
       "    <tr>\n",
       "      <th>0</th>\n",
       "      <td>@CryptosR_Us Take off 🚀🚀🚀🚀🚀 $shib $btc $eth</td>\n",
       "      <td>4071</td>\n",
       "      <td>2021-04-26 16:04:55+00:00</td>\n",
       "    </tr>\n",
       "    <tr>\n",
       "      <th>1</th>\n",
       "      <td>RT @HoodProtocol: Moshi moshi 📞\\n\\nWe are host...</td>\n",
       "      <td>4071</td>\n",
       "      <td>2021-04-26 16:04:55+00:00</td>\n",
       "    </tr>\n",
       "    <tr>\n",
       "      <th>2</th>\n",
       "      <td>RT @MKid12276995: Congrats Mononoke Inu 31k Ho...</td>\n",
       "      <td>4071</td>\n",
       "      <td>2021-04-26 16:04:55+00:00</td>\n",
       "    </tr>\n",
       "    <tr>\n",
       "      <th>3</th>\n",
       "      <td>RT @adrian__chamber: Gm \\n\\nAll #shiba holders...</td>\n",
       "      <td>4071</td>\n",
       "      <td>2021-04-26 16:04:55+00:00</td>\n",
       "    </tr>\n",
       "    <tr>\n",
       "      <th>4</th>\n",
       "      <td>RT @CoolNoahfeg: Zero eaten on the BSC side, b...</td>\n",
       "      <td>4071</td>\n",
       "      <td>2021-04-26 16:04:55+00:00</td>\n",
       "    </tr>\n",
       "    <tr>\n",
       "      <th>5</th>\n",
       "      <td>RT @MKid12276995: Congrats Mononoke Inu 31k Ho...</td>\n",
       "      <td>4071</td>\n",
       "      <td>2021-04-26 16:04:55+00:00</td>\n",
       "    </tr>\n",
       "    <tr>\n",
       "      <th>6</th>\n",
       "      <td>RT @MajesticDrama: $shib is about to flip $dot...</td>\n",
       "      <td>4071</td>\n",
       "      <td>2021-04-26 16:04:55+00:00</td>\n",
       "    </tr>\n",
       "    <tr>\n",
       "      <th>7</th>\n",
       "      <td>RT @XShibanu: Announcement !!!!\\nRandom airdro...</td>\n",
       "      <td>4071</td>\n",
       "      <td>2021-04-26 16:04:55+00:00</td>\n",
       "    </tr>\n",
       "    <tr>\n",
       "      <th>8</th>\n",
       "      <td>@LibertyBlitz https://t.co/Fs1J7GRRWn</td>\n",
       "      <td>4071</td>\n",
       "      <td>2021-04-26 16:04:55+00:00</td>\n",
       "    </tr>\n",
       "    <tr>\n",
       "      <th>9</th>\n",
       "      <td>RT @zzqlj520: #mxs 做个有始有终的人。要么不愿意开始，倘若有了开始，就一定...</td>\n",
       "      <td>4071</td>\n",
       "      <td>2021-04-26 16:04:55+00:00</td>\n",
       "    </tr>\n",
       "  </tbody>\n",
       "</table>\n",
       "</div>"
      ],
      "text/plain": [
       "                                                text  likes  \\\n",
       "0        @CryptosR_Us Take off 🚀🚀🚀🚀🚀 $shib $btc $eth   4071   \n",
       "1  RT @HoodProtocol: Moshi moshi 📞\\n\\nWe are host...   4071   \n",
       "2  RT @MKid12276995: Congrats Mononoke Inu 31k Ho...   4071   \n",
       "3  RT @adrian__chamber: Gm \\n\\nAll #shiba holders...   4071   \n",
       "4  RT @CoolNoahfeg: Zero eaten on the BSC side, b...   4071   \n",
       "5  RT @MKid12276995: Congrats Mononoke Inu 31k Ho...   4071   \n",
       "6  RT @MajesticDrama: $shib is about to flip $dot...   4071   \n",
       "7  RT @XShibanu: Announcement !!!!\\nRandom airdro...   4071   \n",
       "8              @LibertyBlitz https://t.co/Fs1J7GRRWn   4071   \n",
       "9  RT @zzqlj520: #mxs 做个有始有终的人。要么不愿意开始，倘若有了开始，就一定...   4071   \n",
       "\n",
       "                       time  \n",
       "0 2021-04-26 16:04:55+00:00  \n",
       "1 2021-04-26 16:04:55+00:00  \n",
       "2 2021-04-26 16:04:55+00:00  \n",
       "3 2021-04-26 16:04:55+00:00  \n",
       "4 2021-04-26 16:04:55+00:00  \n",
       "5 2021-04-26 16:04:55+00:00  \n",
       "6 2021-04-26 16:04:55+00:00  \n",
       "7 2021-04-26 16:04:55+00:00  \n",
       "8 2021-04-26 16:04:55+00:00  \n",
       "9 2021-04-26 16:04:55+00:00  "
      ]
     },
     "execution_count": 66,
     "metadata": {},
     "output_type": "execute_result"
    }
   ],
   "source": [
    "pd.DataFrame({\n",
    "    'text':tweetsText, \n",
    "    'likes':likes,\n",
    "    'time':time\n",
    "    }\n",
    ")"
   ]
  },
  {
   "cell_type": "code",
   "execution_count": 3,
   "metadata": {},
   "outputs": [],
   "source": [
    "Client = tweepy.Client(\n",
    "    bearer_token= authInfo['BEARER_TOKEN'],\n",
    "    consumer_key= authInfo['CONSUMER_KEY'],\n",
    "    consumer_secret= authInfo['CONSUMER_SECRET'],\n",
    "    access_token= authInfo['ACCESS_TOKEN'],\n",
    "    access_token_secret= authInfo['ACCESS_SECRET'],\n",
    "    return_type= 'dict'\n",
    ")"
   ]
  },
  {
   "cell_type": "code",
   "execution_count": 6,
   "metadata": {},
   "outputs": [],
   "source": [
    "cursor = Client.search_recent_tweets('from: airdropinspect')"
   ]
  },
  {
   "cell_type": "code",
   "execution_count": 18,
   "metadata": {},
   "outputs": [
    {
     "data": {
      "text/plain": [
       "<Tweet id=1454091431312822272 text=New airdrop: Bitlocus (BTL)\n",
       "Reward: 50 BTL\n",
       "Rate:⭐️⭐️⭐️⭐️\n",
       "Winners: 15,000 Random\n",
       "Distribution: after TGE\n",
       "\n",
       "Bot Airdrop Link: https://t.co/2GncHBdFcw\n",
       "\n",
       "#Airdrop #Airdrops #Airdropinspector #Bitlocus #BTL #Crypto #Bitcoin>"
      ]
     },
     "execution_count": 18,
     "metadata": {},
     "output_type": "execute_result"
    }
   ],
   "source": [
    "cursor[0][1]"
   ]
  },
  {
   "cell_type": "code",
   "execution_count": null,
   "metadata": {},
   "outputs": [],
   "source": []
  }
 ],
 "metadata": {
  "kernelspec": {
   "display_name": "Python 3",
   "language": "python",
   "name": "python3"
  },
  "language_info": {
   "codemirror_mode": {
    "name": "ipython",
    "version": 3
   },
   "file_extension": ".py",
   "mimetype": "text/x-python",
   "name": "python",
   "nbconvert_exporter": "python",
   "pygments_lexer": "ipython3",
   "version": "3.8.5"
  }
 },
 "nbformat": 4,
 "nbformat_minor": 4
}
